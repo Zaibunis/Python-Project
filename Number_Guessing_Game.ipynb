{
  "nbformat": 4,
  "nbformat_minor": 0,
  "metadata": {
    "colab": {
      "provenance": [],
      "authorship_tag": "ABX9TyPRJPX4k124PIoYN0Jl8GNg",
      "include_colab_link": true
    },
    "kernelspec": {
      "name": "python3",
      "display_name": "Python 3"
    },
    "language_info": {
      "name": "python"
    }
  },
  "cells": [
    {
      "cell_type": "markdown",
      "metadata": {
        "id": "view-in-github",
        "colab_type": "text"
      },
      "source": [
        "<a href=\"https://colab.research.google.com/github/Zaibunis/Python-Project/blob/main/Number_Guessing_Game.ipynb\" target=\"_parent\"><img src=\"https://colab.research.google.com/assets/colab-badge.svg\" alt=\"Open In Colab\"/></a>"
      ]
    },
    {
      "cell_type": "code",
      "execution_count": null,
      "metadata": {
        "colab": {
          "base_uri": "https://localhost:8080/"
        },
        "id": "T8MDn8OokAPE",
        "outputId": "e52a247a-87fc-4f6e-dd1b-0a1fabd98c3a"
      },
      "outputs": [
        {
          "output_type": "stream",
          "name": "stdout",
          "text": [
            "Welcome to the game, this is a number guessing game!\n",
            "You got 5 attempts to guess the number between 50 and 100, let's start the game.\n"
          ]
        }
      ],
      "source": [
        "import random\n",
        "\n",
        "print(\"Welcome to the game, this is a number guessing game!\\nYou got 5 attempts to guess the number between 50 and 100, let's start the game.\")\n",
        "\n",
        "number_to_guess = random.randint(50, 100)\n",
        "chances = 5\n",
        "guess_counter = 0\n",
        "\n",
        "while guess_counter < chances:\n",
        "    guess_counter += 1\n",
        "    my_guess = int(input(\"Please enter your guess: \"))\n",
        "\n",
        "    if my_guess == number_to_guess:\n",
        "        print(f\"The number is {number_to_guess}, and you found it right in {guess_counter} attempt(s)!\")\n",
        "        break\n",
        "    elif guess_counter >= chances and my_guess != number_to_guess:\n",
        "        print(f\"Oops, sorry! The number was {number_to_guess}. Better luck next time!\")\n",
        "    elif my_guess < number_to_guess:\n",
        "        print(\"Your guess is too low, try again!\")\n",
        "    elif my_guess > number_to_guess:\n",
        "        print(\"Your guess is too high, try again!\")\n"
      ]
    }
  ]
}